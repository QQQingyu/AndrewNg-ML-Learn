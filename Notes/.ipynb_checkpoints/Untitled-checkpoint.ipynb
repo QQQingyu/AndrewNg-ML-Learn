{
 "cells": [
  {
   "cell_type": "markdown",
   "metadata": {},
   "source": [
    "## Week01 Basic Concept and Linear Regression(1)"
   ]
  },
  {
   "cell_type": "markdown",
   "metadata": {},
   "source": [
    "### Basic concept"
   ]
  },
  {
   "cell_type": "markdown",
   "metadata": {},
   "source": [
    "Many scientists think the best way to make progress on this is through learning algorithms called neural networks, which mimic how the human brain works.  \n",
    "A computer program is said to:  \n",
    "> \"Learn from experience E with respect to some class of tasks T and performance measure P, if its performance at tasks in T, as measured by P, improves with experience E.\"  \n",
    "\n",
    "In general, any machine learning problem can be assigned to one of two broad classifications:  \n",
    "Supervised learning and Unsupervised learning.  \n",
    "- **Supervised learning** :  \n",
    " 1. Regression problem. eg: house price forecast (quadratic function is better)  \n",
    " 2. Classification problem. eg: malignant tumor judgment 0/1  \n",
    "*regression problem* could be converted to *classification problem*, such like *the price forecast* is converted into *whether it is sold*.  \n",
    "- **Unsupervised learning** :  \n",
    "Given a bunch of data without the so-called \"correct answer\" for automatic classification. Such as *Social network analysis*, *Market segmentation*, *Celestial data analysis*  \n",
    " 1. Clustering problem. eg: genomic classification problems  \n",
    " 2. Non-clustering problem. eg: audio noise process"
   ]
  },
  {
   "cell_type": "markdown",
   "metadata": {},
   "source": [
    "### Linear Regression"
   ]
  },
  {
   "cell_type": "markdown",
   "metadata": {},
   "source": [
    "#### Model and Cost Function"
   ]
  },
  {
   "cell_type": "markdown",
   "metadata": {},
   "source": [
    "To describe the supervised learning problem slightly more formally, our goal is, given a training set, to learn a function $h : X → Y$ so that $h(x)$ is a “good” predictor for the corresponding value of $y$. For historical reasons, this function $h$ is called a *hypothesis*. Seen pictorially, the process is therefore like this:  \n",
    " <img src=\"https://raw.githubusercontent.com/QQQingyu/AndrewNg-ML-Learn/notes/Imgs/week1_flow.png\" width = \"350\" height = \"250\" alt=\"\" align=center />  \n",
    "We can measure the accuracy of our hypothesis function by using a **cost function**  \n",
    " <img src=\"https://raw.githubusercontent.com/QQQingyu/AndrewNg-ML-Learn/master/Imgs/Week1_courseslide%202019-09-05%20at%2013.30.08.png\" width = \"450\" height = \"350\" alt=\"\" align=center />  \n",
    "If only consider $\\theta_1$ where $\\theta_0 = 0$, we could draw a $y - x$ line and a two-dimensional $J - \\theta_1$ graph:  \n",
    " <img src=\"https://raw.githubusercontent.com/QQQingyu/AndrewNg-ML-Learn/master/Imgs/Week1_courseslide%202019-09-05%20at%2013.30.21.png\" width = \"500\" height = \"400\" alt=\"\" align=center />  \n",
    "If consider two variable parameters $\\theta_0$ and $\\theta_1$, it's changed to a three-dimensional graph (or two-dimensional contuor graph):  \n",
    " <img src=\"https://raw.githubusercontent.com/QQQingyu/AndrewNg-ML-Learn/master/Imgs/Week1_courseslide%202019-09-05%20at%2013.30.32.png\" width = \"500\" height = \"400\" alt=\"\" align=center />  \n"
   ]
  },
  {
   "cell_type": "markdown",
   "metadata": {},
   "source": [
    "#### Parameter Learning of Model"
   ]
  },
  {
   "cell_type": "markdown",
   "metadata": {},
   "source": [
    "##### Gradient Descent algorithm"
   ]
  },
  {
   "cell_type": "markdown",
   "metadata": {},
   "source": [
    "One of the features of Gradient Descent algorithm: Different starting points may get different <u>local</u> optimal solutions.  \n",
    "<img src=\"https://raw.githubusercontent.com/QQQingyu/AndrewNg-ML-Learn/master/Imgs/Week1_courseslide%202019-09-05%20at%2018.49.21.png\" width = \"450\" height = \"350\" alt=\"\" align=center />  \n",
    "**Note:** Execute simultaneously.  \n",
    "The size of each step is determined by the parameter $\\alpha$, which is called the *learning rate*. If $\\alpha$ too small or too big, it would cause the convergence time to be too long or unable to converge.   \n",
    "<img src=\"https://raw.githubusercontent.com/QQQingyu/AndrewNg-ML-Learn/master/Imgs/Week1_courseslide%202019-09-05%20at%2018.49.50.png\" width = \"400\" height = \"300\" alt=\"\" align=center /><img src=\"https://raw.githubusercontent.com/QQQingyu/AndrewNg-ML-Learn/master/Imgs/Week1_courseslide%202019-09-05%20at%2018.50.00.png\" width = \"400\" height = \"300\" alt=\"\" align=center />  "
   ]
  },
  {
   "cell_type": "markdown",
   "metadata": {},
   "source": [
    "#### Summary\n",
    "<img src=\"https://raw.githubusercontent.com/QQQingyu/AndrewNg-ML-Learn/master/Imgs/Week1_courseslide%202019-09-05%20at%2019.00.48.png\" width = \"500\" height = \"400\" alt=\"\" align=center />  \n",
    "Integrated linear recursive algorithm:  \n",
    "<img src=\"https://raw.githubusercontent.com/QQQingyu/AndrewNg-ML-Learn/master/Imgs/Week1_courseslide%202019-09-05%20at%2018.52.47.png\" width = \"500\" height = \"400\" alt=\"\" align=center />  \n"
   ]
  }
 ],
 "metadata": {
  "kernelspec": {
   "display_name": "Python 3",
   "language": "python",
   "name": "python3"
  },
  "language_info": {
   "codemirror_mode": {
    "name": "ipython",
    "version": 3
   },
   "file_extension": ".py",
   "mimetype": "text/x-python",
   "name": "python",
   "nbconvert_exporter": "python",
   "pygments_lexer": "ipython3",
   "version": "3.7.3"
  }
 },
 "nbformat": 4,
 "nbformat_minor": 2
}
